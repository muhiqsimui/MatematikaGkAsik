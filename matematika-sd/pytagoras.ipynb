{
  "nbformat": 4,
  "nbformat_minor": 0,
  "metadata": {
    "colab": {
      "name": "pytagoras.ipynb",
      "provenance": [],
      "collapsed_sections": []
    },
    "kernelspec": {
      "name": "python3",
      "display_name": "Python 3"
    },
    "language_info": {
      "name": "python"
    }
  },
  "cells": [
    {
      "cell_type": "markdown",
      "metadata": {
        "id": "GP5teg95kbH2"
      },
      "source": [
        "\n",
        "Berikut adalah **Rumus Pytagoras** <br>\n",
        "dimana AB2 = BC2 + AC2 atau c2 = a2 + b2\n",
        "\n",
        "\n",
        "<img src=\"https://www.dosenpendidikan.co.id/wp-content/uploads/2019/11/Rumus-Pythagoras.jpg.webp\">\n",
        "\n",
        "\n",
        "sekarang mari kita ke studi kasus mari kita koding\n",
        "\n",
        "Terdapat sebuah segitiga dimana \n",
        "sisi A memiliki panjang 10 dan sisi B memiliki panjang 12\n",
        "hitunglah berapa panjang sisi C dengan menggunakan rumus pytagoras\n",
        "\n",
        "maka C^2=A^2*B^2"
      ]
    },
    {
      "cell_type": "code",
      "metadata": {
        "colab": {
          "base_uri": "https://localhost:8080/"
        },
        "id": "8IBisqf4jeS1",
        "outputId": "29c1cf5d-ba2f-49a2-a6ae-3fcd01c9bb83"
      },
      "source": [
        "# kita membutuhkan 2 sisi yaitu sisi A dan sisi B\n",
        "import math\n",
        "\n",
        "def pytagoras(A,B):\n",
        "  print(\"Diketahui :\")\n",
        "  print(\"Sisi A = \",A)\n",
        "  print(\"Sisi B = \",B)\n",
        "  print(\"Maka hitunglah panjang sisi C dengan rumus pytagoras\")\n",
        "  C=(A*A)+(B*B)\n",
        "  #math.sqrt digunakan untuk mencari akar misal akar dari 25 adalah 5\n",
        "  print(\"SISI C = \",int(math.sqrt(C)) )\n",
        "pytagoras(3,4)\n"
      ],
      "execution_count": 25,
      "outputs": [
        {
          "output_type": "stream",
          "text": [
            "Diketahui :\n",
            "Sisi A =  3\n",
            "Sisi B =  4\n",
            "Maka hitunglah panjang sisi C dengan rumus pytagoras\n",
            "SISI C =  5\n"
          ],
          "name": "stdout"
        }
      ]
    },
    {
      "cell_type": "markdown",
      "metadata": {
        "id": "O1dXou3ojfc2"
      },
      "source": [
        ""
      ]
    }
  ]
}
