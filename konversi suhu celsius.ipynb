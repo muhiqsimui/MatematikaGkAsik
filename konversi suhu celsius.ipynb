{
 "cells": [
  {
   "cell_type": "code",
   "execution_count": 26,
   "metadata": {},
   "outputs": [
    {
     "name": "stdout",
     "output_type": "stream",
     "text": [
      "Masukan suhu dalam celsius :2\n",
      "\n",
      "Celcius to Farenheit :  35.6 F\n",
      "Celcius to Reamur :  1.6 R\n",
      "Celcius to Kelvin :  275.0 F\n",
      "Celcius to Rankine :  888.606 Ra\n",
      "Celsius to Delisle : 147.0 De\n",
      "Celsius to Newton : 147.0 N\n",
      "Celsius to Romer : 8.55 Ro\n"
     ]
    },
    {
     "data": {
      "text/plain": [
       "''"
      ]
     },
     "execution_count": 26,
     "metadata": {},
     "output_type": "execute_result"
    }
   ],
   "source": [
    "\"\"\"Konversi Suhu dalam python\n",
    "a= suhu dalam celsius\n",
    "\"\"\"\n",
    "\n",
    "def konver(a):\n",
    "    f=(9/5)*a+32\n",
    "    r=(4/5)*a\n",
    "    k=a+273\n",
    "    ran=1.8 *(a+ 491.67)\n",
    "    de= (100-a) * 1.5\n",
    "    n= a*(33/100)\n",
    "    Ro=a*(21/40)+7.5\n",
    "    print()\n",
    "\"\"\"\n",
    "    Coder: Muhammad Iqbal\n",
    "    Code name: muhiqsimui\n",
    "\"\"\"          \n",
    "    print('Celcius to Farenheit : ',f,'F')\n",
    "    print('Celcius to Reamur : ',r,'R')\n",
    "    print('Celcius to Kelvin : ',k,'F')\n",
    "    print('Celcius to Rankine : ',ran,'Ra')\n",
    "    print('Celsius to Delisle :',de,'De')\n",
    "    print('Celsius to Newton :',de,'N')\n",
    "    print('Celsius to Romer :',Ro,'Ro')\n",
    "    \n",
    "\n",
    "a=float(input('Masukan suhu dalam celsius :'))\n",
    "\n",
    "konver(a)\n",
    "\n"
   ]
  },
  {
   "cell_type": "code",
   "execution_count": null,
   "metadata": {},
   "outputs": [],
   "source": []
  },
  {
   "cell_type": "code",
   "execution_count": null,
   "metadata": {},
   "outputs": [],
   "source": []
  }
 ],
 "metadata": {
  "kernelspec": {
   "display_name": "Python 3",
   "language": "python",
   "name": "python3"
  },
  "language_info": {
   "codemirror_mode": {
    "name": "ipython",
    "version": 3
   },
   "file_extension": ".py",
   "mimetype": "text/x-python",
   "name": "python",
   "nbconvert_exporter": "python",
   "pygments_lexer": "ipython3",
   "version": "3.6.7"
  }
 },
 "nbformat": 4,
 "nbformat_minor": 2
}
