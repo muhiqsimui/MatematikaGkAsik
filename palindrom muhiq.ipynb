{
 "cells": [
  {
   "cell_type": "code",
   "execution_count": 51,
   "metadata": {},
   "outputs": [
    {
     "name": "stdout",
     "output_type": "stream",
     "text": [
      "Masukan Kata:ara\n",
      "ara\n",
      "Palindrom\n"
     ]
    }
   ],
   "source": [
    "\"\"\"Ini digunakan untuk\n",
    "mengecek apakah kata yg di inputkan palindrom atau tidak\n",
    "Palindrom adalah sebuah kata, frasa, angka maupun susunan lainnya \n",
    "yang dapat dibaca dengan sama baik dari depan maupun belakang\n",
    "spasi antara huruf-huruf biasanya diperbolehkan\n",
    "\n",
    "coder: muhammad iqbal\n",
    "code name: muhiqsimui\n",
    "\"\"\"\n",
    "\n",
    "def palindrom():\n",
    "    a=str(input('Masukan Kata:'))\n",
    "    def balik(a):\n",
    "        return a[::-1]\n",
    "    s=balik(a)\n",
    "    print(a)\n",
    "    if(a==s):\n",
    "        print('Palindrom')\n",
    "    else:\n",
    "        print('tidak palindrom')\n",
    "    \n",
    "\n",
    "palindrom()"
   ]
  },
  {
   "cell_type": "code",
   "execution_count": null,
   "metadata": {},
   "outputs": [],
   "source": []
  },
  {
   "cell_type": "code",
   "execution_count": null,
   "metadata": {},
   "outputs": [],
   "source": []
  }
 ],
 "metadata": {
  "kernelspec": {
   "display_name": "Python 3",
   "language": "python",
   "name": "python3"
  },
  "language_info": {
   "codemirror_mode": {
    "name": "ipython",
    "version": 3
   },
   "file_extension": ".py",
   "mimetype": "text/x-python",
   "name": "python",
   "nbconvert_exporter": "python",
   "pygments_lexer": "ipython3",
   "version": "3.6.7"
  }
 },
 "nbformat": 4,
 "nbformat_minor": 2
}
