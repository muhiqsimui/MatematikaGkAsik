{
 "cells": [
  {
   "cell_type": "code",
   "execution_count": 29,
   "metadata": {},
   "outputs": [],
   "source": [
    "#dibuat untuk mendegfinisikan proses derivasi /turunan fungsi x\n",
    "def derivative(f):\n",
    "    def compute(x, dx):\n",
    "        return (f(x+dx) - f(x))/dx\n",
    "    return compute\n",
    "#digunakan untuk perhitungan newton raphson\n",
    "#f parmeter\n",
    "\"\"\"\n",
    "prmeter fungsi newton raphson\n",
    "F adalah parameter fungsi x\n",
    "x adalah nilai x awal\n",
    "tolerance adalah nilai batas toleransi/eror\n",
    "\"\"\"\n",
    "def newton_raphson(f, x, tolerance):\n",
    "    '''f is the function f(x)'''\n",
    "    df = derivative(f)\n",
    "    dx = 0.000001\n",
    "    iteration = 0\n",
    "    while True:\n",
    "        h = f(x)/df(x, dx)\n",
    "        x1 = x - h\n",
    "        t = abs(x1-x)\n",
    "        if t < tolerance:\n",
    "            break\n",
    "        x = x1\n",
    "        iteration += 1\n",
    "        print(\"Iterasi ke-:\", iteration)\n",
    "        \"\"\"Round digunakan agar angka dibelakang koma dibatasi 9 digit\"\"\"\n",
    "        print(\"x:\",round(x,9))\n",
    "        print(\"f(x):\",f(x))\n",
    "    return x\n",
    "\n",
    "def f(x):\n",
    "    \"\"\"Tempat meletakan fungsi x\"\"\"\n",
    "    return x**3-x-1"
   ]
  },
  {
   "cell_type": "code",
   "execution_count": 30,
   "metadata": {},
   "outputs": [
    {
     "name": "stdout",
     "output_type": "stream",
     "text": [
      "Iterasi ke-: 1\n",
      "x: 1.347826206\n",
      "f(x): 0.10068270297429649\n",
      "Iterasi ke-: 2\n",
      "x: 1.325200424\n",
      "f(x): 0.0020584705593627017\n",
      "Iterasi ke-: 3\n",
      "x: 1.324718174\n",
      "f(x): 9.26390685496159e-07\n",
      "Iterasi ke-: 4\n",
      "x: 1.324717957\n",
      "f(x): 1.050270981295398e-12\n"
     ]
    },
    {
     "data": {
      "text/plain": [
       "1.3247179572449923"
      ]
     },
     "execution_count": 30,
     "metadata": {},
     "output_type": "execute_result"
    }
   ],
   "source": [
    "\"\"\"F, x0 , akurasi 9 digit\n",
    "1e-5 sama artinya dengan 0,00000001\n",
    "\"\"\"\n",
    "newton_raphson(f, 1.5, 1e-9)"
   ]
  },
  {
   "cell_type": "code",
   "execution_count": 31,
   "metadata": {},
   "outputs": [],
   "source": [
    "\"\"\"SECANT\"\"\"\n",
    "def f1(x):\n",
    "    \"\"\"Tempat meletakan fungsi x\"\"\"\n",
    "    return x**3-x-10\n",
    "\n",
    "def secant_method(x0,x1,f,eps):\n",
    "    i = 0\n",
    "    while True:\n",
    "        x = x1-(f(x1)*(x1-x0)/(f(x1)-f(x0)))\n",
    "        x0 = x1\n",
    "        x1 = x\n",
    "        i += 1\n",
    "        print(\"Iterasi ke-\",i)\n",
    "        print(\"x:\",round(x1,5))\n",
    "        print(\"f(x)\",f(x1))\n",
    "        if abs(x1-x0)<= eps:\n",
    "            break\n",
    "    #return x"
   ]
  },
  {
   "cell_type": "code",
   "execution_count": 32,
   "metadata": {},
   "outputs": [
    {
     "name": "stdout",
     "output_type": "stream",
     "text": [
      "Iterasi ke- 1\n",
      "x: 2.66667\n",
      "f(x) 6.2962962962962905\n",
      "Iterasi ke- 2\n",
      "x: 2.25899\n",
      "f(x) -0.731242964843485\n",
      "Iterasi ke- 3\n",
      "x: 2.30141\n",
      "f(x) -0.11197689775556441\n",
      "Iterasi ke- 4\n",
      "x: 2.30908\n",
      "f(x) 0.0026393839564455845\n",
      "Iterasi ke- 5\n",
      "x: 2.30891\n",
      "f(x) -9.159080235576766e-06\n",
      "Iterasi ke- 6\n",
      "x: 2.30891\n",
      "f(x) -7.44790895623737e-10\n"
     ]
    }
   ],
   "source": [
    "\"\"\"x0,x1,f,akurasi 5 digit \n",
    "1e-5 sama artinya dengan 0,00001\n",
    "\"\"\"\n",
    "secant_method(1,2,f1,1e-5)"
   ]
  },
  {
   "cell_type": "code",
   "execution_count": 28,
   "metadata": {},
   "outputs": [],
   "source": [
    "#Code diedit oleh muhammad iqbal Nim: 15523268\n",
    "#sumber kode asli https://github.com/fathanick/numerical-method\n",
    "#/16/04/2019"
   ]
  },
  {
   "cell_type": "code",
   "execution_count": null,
   "metadata": {},
   "outputs": [],
   "source": []
  },
  {
   "cell_type": "code",
   "execution_count": null,
   "metadata": {},
   "outputs": [],
   "source": []
  },
  {
   "cell_type": "code",
   "execution_count": null,
   "metadata": {},
   "outputs": [],
   "source": []
  },
  {
   "cell_type": "code",
   "execution_count": null,
   "metadata": {},
   "outputs": [],
   "source": []
  }
 ],
 "metadata": {
  "kernelspec": {
   "display_name": "Python 3",
   "language": "python",
   "name": "python3"
  },
  "language_info": {
   "codemirror_mode": {
    "name": "ipython",
    "version": 3
   },
   "file_extension": ".py",
   "mimetype": "text/x-python",
   "name": "python",
   "nbconvert_exporter": "python",
   "pygments_lexer": "ipython3",
   "version": "3.7.0"
  }
 },
 "nbformat": 4,
 "nbformat_minor": 2
}
